{
 "cells": [
  {
   "cell_type": "code",
   "execution_count": 27,
   "id": "fc2025c2-b624-403b-b895-37a98286ed7b",
   "metadata": {},
   "outputs": [],
   "source": [
    "#Import Necessary Libraries"
   ]
  },
  {
   "cell_type": "code",
   "execution_count": 28,
   "id": "ef64aac0-da15-45f2-8436-d61807aa7c01",
   "metadata": {},
   "outputs": [],
   "source": [
    "import pandas as pd\n",
    "import numpy as np\n",
    "from sklearn.model_selection import train_test_split\n",
    "from sklearn.preprocessing import LabelEncoder\n",
    "from sklearn.naive_bayes import BernoulliNB\n",
    "from sklearn.metrics import accuracy_score, f1_score"
   ]
  },
  {
   "cell_type": "code",
   "execution_count": 29,
   "id": "b5757bd8-71c3-4112-80ef-d3baec360ffc",
   "metadata": {},
   "outputs": [],
   "source": [
    "#Load the Dataset"
   ]
  },
  {
   "cell_type": "code",
   "execution_count": 30,
   "id": "90770657-cf83-47e8-b672-972623dbfd6b",
   "metadata": {},
   "outputs": [],
   "source": [
    "data = pd.read_excel(\"GenderPrediction.xlsx\")"
   ]
  },
  {
   "cell_type": "code",
   "execution_count": 31,
   "id": "d505f6d0-d917-403f-a3f0-778ea1bbadb9",
   "metadata": {},
   "outputs": [],
   "source": [
    "#Extract Last letter "
   ]
  },
  {
   "cell_type": "code",
   "execution_count": 32,
   "id": "575148c2-9091-4ad8-84de-c8bbee2adf23",
   "metadata": {},
   "outputs": [],
   "source": [
    "data[\"Lastletter\"] = data[\"Name\"].apply(lambda x: str(x)[-1])"
   ]
  },
  {
   "cell_type": "code",
   "execution_count": 33,
   "id": "816ee1d0-917b-4dee-bd98-3318dbe71f9c",
   "metadata": {},
   "outputs": [],
   "source": [
    "#Split dataset using stratified sampling (80-20 ratio)"
   ]
  },
  {
   "cell_type": "code",
   "execution_count": 34,
   "id": "7622c56e-a01d-456b-b9f1-792f0f47340c",
   "metadata": {},
   "outputs": [],
   "source": [
    "X_train, X_test, y_train, y_test = train_test_split(data[[\"Name\",\"Lastletter\"]], data[\"Gender\"], test_size=0.2, stratify=data[\"Gender\"], random_state=42)"
   ]
  },
  {
   "cell_type": "code",
   "execution_count": 35,
   "id": "71787b2b-5566-4236-91b9-010f18b55f20",
   "metadata": {},
   "outputs": [],
   "source": [
    "#Check Training Dataset"
   ]
  },
  {
   "cell_type": "code",
   "execution_count": 36,
   "id": "9e764acc-c6eb-4865-a1df-eb5258990bb7",
   "metadata": {},
   "outputs": [
    {
     "data": {
      "text/html": [
       "<div>\n",
       "<style scoped>\n",
       "    .dataframe tbody tr th:only-of-type {\n",
       "        vertical-align: middle;\n",
       "    }\n",
       "\n",
       "    .dataframe tbody tr th {\n",
       "        vertical-align: top;\n",
       "    }\n",
       "\n",
       "    .dataframe thead th {\n",
       "        text-align: right;\n",
       "    }\n",
       "</style>\n",
       "<table border=\"1\" class=\"dataframe\">\n",
       "  <thead>\n",
       "    <tr style=\"text-align: right;\">\n",
       "      <th></th>\n",
       "      <th>Name</th>\n",
       "      <th>Lastletter</th>\n",
       "    </tr>\n",
       "  </thead>\n",
       "  <tbody>\n",
       "    <tr>\n",
       "      <th>482</th>\n",
       "      <td>Kalapini</td>\n",
       "      <td>i</td>\n",
       "    </tr>\n",
       "    <tr>\n",
       "      <th>2129</th>\n",
       "      <td>Vinutha</td>\n",
       "      <td>a</td>\n",
       "    </tr>\n",
       "    <tr>\n",
       "      <th>1773</th>\n",
       "      <td>Amal</td>\n",
       "      <td>l</td>\n",
       "    </tr>\n",
       "    <tr>\n",
       "      <th>1353</th>\n",
       "      <td>Chandrabhan</td>\n",
       "      <td>n</td>\n",
       "    </tr>\n",
       "    <tr>\n",
       "      <th>261</th>\n",
       "      <td>Charita</td>\n",
       "      <td>a</td>\n",
       "    </tr>\n",
       "    <tr>\n",
       "      <th>...</th>\n",
       "      <td>...</td>\n",
       "      <td>...</td>\n",
       "    </tr>\n",
       "    <tr>\n",
       "      <th>1989</th>\n",
       "      <td>Udyan</td>\n",
       "      <td>n</td>\n",
       "    </tr>\n",
       "    <tr>\n",
       "      <th>1303</th>\n",
       "      <td>Piyush</td>\n",
       "      <td>h</td>\n",
       "    </tr>\n",
       "    <tr>\n",
       "      <th>1380</th>\n",
       "      <td>Sajala</td>\n",
       "      <td>a</td>\n",
       "    </tr>\n",
       "    <tr>\n",
       "      <th>1206</th>\n",
       "      <td>Devahuti</td>\n",
       "      <td>i</td>\n",
       "    </tr>\n",
       "    <tr>\n",
       "      <th>1914</th>\n",
       "      <td>Rupa</td>\n",
       "      <td>a</td>\n",
       "    </tr>\n",
       "  </tbody>\n",
       "</table>\n",
       "<p>2399 rows × 2 columns</p>\n",
       "</div>"
      ],
      "text/plain": [
       "             Name Lastletter\n",
       "482      Kalapini          i\n",
       "2129      Vinutha          a\n",
       "1773         Amal          l\n",
       "1353  Chandrabhan          n\n",
       "261       Charita          a\n",
       "...           ...        ...\n",
       "1989        Udyan          n\n",
       "1303       Piyush          h\n",
       "1380       Sajala          a\n",
       "1206     Devahuti          i\n",
       "1914         Rupa          a\n",
       "\n",
       "[2399 rows x 2 columns]"
      ]
     },
     "execution_count": 36,
     "metadata": {},
     "output_type": "execute_result"
    }
   ],
   "source": [
    "X_train"
   ]
  },
  {
   "cell_type": "code",
   "execution_count": 37,
   "id": "2d716507-0015-4fa4-b398-259e0d7b0997",
   "metadata": {},
   "outputs": [],
   "source": [
    "# Encode last letters and gender"
   ]
  },
  {
   "cell_type": "code",
   "execution_count": 38,
   "id": "f4b1f810-4e40-4d03-a8bf-ae1595783a86",
   "metadata": {},
   "outputs": [],
   "source": [
    "le1 = LabelEncoder()\n",
    "le2 = LabelEncoder()\n",
    "\n",
    "X_train[\"Lastletter\"] = le1.fit_transform(X_train[\"Lastletter\"])\n",
    "y_train = le2.fit_transform(y_train)"
   ]
  },
  {
   "cell_type": "code",
   "execution_count": 39,
   "id": "e9013e12-3858-4026-b4ad-5f139bcf026c",
   "metadata": {},
   "outputs": [],
   "source": [
    "X_test[\"Lastletter\"] = le1.transform(X_test[\"Lastletter\"])\n",
    "y_test = le2.transform(y_test)"
   ]
  },
  {
   "cell_type": "code",
   "execution_count": 40,
   "id": "b97be2b4-0d48-438c-b5c9-ceb131c7f118",
   "metadata": {},
   "outputs": [],
   "source": [
    "#Train the model and Predict"
   ]
  },
  {
   "cell_type": "code",
   "execution_count": 41,
   "id": "0ab60b71-fda3-4aea-ac22-9f1afe6e120d",
   "metadata": {},
   "outputs": [
    {
     "data": {
      "text/plain": [
       "array([1, 1, 1, 1, 0, 1, 1, 1, 0, 1, 1, 1, 1, 1, 1, 1, 0, 1, 1, 1, 1, 0,\n",
       "       0, 1, 0, 0, 1, 1, 1, 0, 1, 1, 0, 1, 0, 1, 0, 0, 0, 1, 1, 1, 1, 1,\n",
       "       1, 0, 0, 0, 0, 1, 1, 1, 0, 0, 1, 0, 1, 1, 0, 1, 1, 1, 0, 0, 0, 0,\n",
       "       1, 0, 1, 1, 0, 1, 0, 1, 0, 1, 1, 1, 1, 1, 0, 1, 1, 0, 0, 1, 1, 1,\n",
       "       1, 1, 0, 1, 1, 1, 0, 1, 1, 0, 0, 1, 0, 1, 0, 1, 0, 0, 1, 1, 1, 0,\n",
       "       1, 1, 1, 0, 1, 0, 1, 1, 1, 1, 1, 0, 0, 1, 0, 1, 1, 1, 1, 0, 0, 0,\n",
       "       1, 0, 1, 0, 1, 1, 1, 1, 1, 1, 1, 1, 1, 1, 1, 1, 1, 0, 1, 1, 0, 1,\n",
       "       1, 0, 1, 1, 0, 1, 0, 0, 0, 1, 0, 0, 0, 1, 0, 1, 1, 1, 1, 0, 1, 1,\n",
       "       0, 1, 1, 0, 0, 1, 1, 0, 0, 1, 0, 1, 1, 0, 0, 1, 1, 1, 0, 0, 1, 1,\n",
       "       0, 1, 1, 0, 0, 1, 1, 0, 0, 1, 0, 1, 1, 0, 0, 1, 1, 0, 0, 0, 1, 0,\n",
       "       0, 1, 0, 0, 0, 1, 1, 1, 0, 0, 0, 0, 1, 0, 1, 0, 1, 0, 0, 1, 1, 1,\n",
       "       1, 1, 0, 1, 1, 1, 0, 1, 1, 0, 1, 1, 1, 0, 1, 0, 1, 1, 1, 1, 0, 0,\n",
       "       1, 1, 1, 1, 1, 1, 1, 0, 1, 1, 1, 1, 0, 1, 1, 0, 1, 0, 0, 0, 1, 0,\n",
       "       0, 0, 1, 1, 1, 1, 1, 1, 0, 0, 0, 1, 1, 1, 1, 0, 1, 0, 0, 1, 1, 1,\n",
       "       1, 1, 0, 0, 1, 1, 1, 0, 1, 1, 1, 0, 1, 1, 1, 1, 0, 0, 0, 1, 1, 0,\n",
       "       0, 1, 1, 1, 1, 1, 0, 0, 1, 0, 1, 1, 0, 0, 1, 1, 0, 0, 1, 1, 1, 1,\n",
       "       0, 1, 0, 1, 0, 1, 1, 1, 1, 1, 0, 1, 1, 1, 1, 1, 1, 1, 0, 0, 1, 1,\n",
       "       1, 0, 0, 1, 0, 1, 1, 1, 1, 1, 1, 0, 1, 0, 0, 1, 0, 1, 0, 1, 0, 0,\n",
       "       0, 1, 0, 0, 1, 0, 1, 0, 1, 0, 1, 1, 1, 0, 1, 0, 0, 0, 1, 1, 1, 1,\n",
       "       1, 1, 1, 1, 0, 1, 1, 1, 0, 0, 0, 1, 0, 1, 0, 1, 0, 0, 1, 1, 1, 1,\n",
       "       1, 1, 0, 1, 1, 0, 0, 0, 0, 1, 0, 1, 1, 1, 1, 1, 1, 1, 1, 0, 1, 0,\n",
       "       1, 1, 1, 1, 0, 1, 1, 0, 1, 0, 0, 0, 1, 1, 1, 1, 0, 1, 1, 1, 1, 1,\n",
       "       0, 0, 1, 1, 1, 1, 1, 0, 1, 0, 1, 1, 1, 1, 0, 1, 0, 0, 1, 0, 1, 0,\n",
       "       1, 0, 0, 0, 0, 1, 0, 1, 0, 1, 1, 1, 0, 1, 1, 1, 1, 1, 0, 1, 1, 1,\n",
       "       1, 0, 1, 1, 0, 0, 1, 1, 0, 1, 1, 0, 1, 1, 1, 0, 0, 1, 1, 0, 0, 1,\n",
       "       1, 1, 0, 0, 1, 0, 1, 0, 0, 1, 1, 1, 0, 0, 1, 1, 1, 1, 0, 1, 1, 1,\n",
       "       0, 1, 1, 0, 1, 1, 1, 0, 1, 0, 0, 0, 1, 1, 1, 0, 1, 1, 1, 1, 0, 1,\n",
       "       1, 1, 1, 1, 0, 0])"
      ]
     },
     "execution_count": 41,
     "metadata": {},
     "output_type": "execute_result"
    }
   ],
   "source": [
    "X_train_lastletter = X_train[[\"Lastletter\"]].values\n",
    "X_test_lastletter = X_test[[\"Lastletter\"]].values\n",
    "\n",
    "model = BernoulliNB()\n",
    "model.fit(X_train_lastletter,y_train)\n",
    "\n",
    "y_pred = model.predict(X_test_lastletter)\n",
    "y_pred\n"
   ]
  },
  {
   "cell_type": "code",
   "execution_count": 42,
   "id": "53c8939b-b612-47b5-a1fa-99bb68e50d90",
   "metadata": {},
   "outputs": [],
   "source": [
    "#Evaluate Accuracy and F1-Score"
   ]
  },
  {
   "cell_type": "code",
   "execution_count": 43,
   "id": "a7a7b63b-0e9b-4924-8dfb-b41addcbfedd",
   "metadata": {},
   "outputs": [
    {
     "name": "stdout",
     "output_type": "stream",
     "text": [
      "Model Accuracy: 72.00%\n",
      "F1 Score: 0.72\n"
     ]
    }
   ],
   "source": [
    "accuracy = accuracy_score(y_test, y_pred)\n",
    "f1 = f1_score(y_test, y_pred, average='weighted')\n",
    "print(f\"Model Accuracy: {accuracy * 100:.2f}%\")\n",
    "print(f\"F1 Score: {f1:.2f}\")"
   ]
  },
  {
   "cell_type": "code",
   "execution_count": 44,
   "id": "8ac74df5-a71a-4a31-89ac-bed5ab697a7a",
   "metadata": {},
   "outputs": [],
   "source": [
    "# Function to predict gender based on input name"
   ]
  },
  {
   "cell_type": "code",
   "execution_count": 45,
   "id": "1c646a14-ad30-4dc1-b8c1-52c8bdb73d34",
   "metadata": {},
   "outputs": [],
   "source": [
    "def predict_gender(name):\n",
    "    last_letter = name[-1].lower()\n",
    "    if last_letter not in le1.classes_:\n",
    "        print(\"Error: Unknown last letter. Try another name.\")\n",
    "        return\n",
    "    encoded_letter = le1.transform([last_letter]).reshape(-1, 1)\n",
    "    predicted_label = model.predict(encoded_letter)[0]\n",
    "    gender = le2.inverse_transform([predicted_label])[0]\n",
    "    print(f\"Predicted Gender: {gender}\")"
   ]
  },
  {
   "cell_type": "code",
   "execution_count": 46,
   "id": "be8bb814-ab00-4dd9-b2cd-0e5d8b3bfb6a",
   "metadata": {},
   "outputs": [],
   "source": [
    "#Input loop for user"
   ]
  },
  {
   "cell_type": "code",
   "execution_count": 47,
   "id": "05675e8a-f7e9-44b5-97c3-1c426c945a18",
   "metadata": {},
   "outputs": [
    {
     "name": "stdin",
     "output_type": "stream",
     "text": [
      "Enter a name to predict gender (or type 'exit' to quit):  Saket\n"
     ]
    },
    {
     "name": "stdout",
     "output_type": "stream",
     "text": [
      "Predicted Gender: Male\n"
     ]
    },
    {
     "name": "stdin",
     "output_type": "stream",
     "text": [
      "Enter a name to predict gender (or type 'exit' to quit):  Mahima\n"
     ]
    },
    {
     "name": "stdout",
     "output_type": "stream",
     "text": [
      "Predicted Gender: Female\n"
     ]
    },
    {
     "name": "stdin",
     "output_type": "stream",
     "text": [
      "Enter a name to predict gender (or type 'exit' to quit):  Exit\n"
     ]
    }
   ],
   "source": [
    "while True:\n",
    "    user_input = input(\"Enter a name to predict gender (or type 'exit' to quit): \")\n",
    "    if user_input.lower() == 'exit':\n",
    "        break\n",
    "    predict_gender(user_input)"
   ]
  }
 ],
 "metadata": {
  "kernelspec": {
   "display_name": "Python 3 (ipykernel)",
   "language": "python",
   "name": "python3"
  },
  "language_info": {
   "codemirror_mode": {
    "name": "ipython",
    "version": 3
   },
   "file_extension": ".py",
   "mimetype": "text/x-python",
   "name": "python",
   "nbconvert_exporter": "python",
   "pygments_lexer": "ipython3",
   "version": "3.13.2"
  }
 },
 "nbformat": 4,
 "nbformat_minor": 5
}
